{
 "cells": [
  {
   "cell_type": "raw",
   "metadata": {},
   "source": [
    "import os\n",
    "import csv\n"
   ]
  },
  {
   "cell_type": "code",
   "execution_count": 3,
   "metadata": {},
   "outputs": [],
   "source": [
    "# Create analysis function\n",
    "def analyze_budgets(file):\n",
    "    #Declare vaiables for analysis\n",
    "    total_months = 0\n",
    "    total_profit = 0\n",
    "    greatst_inc = 0\n",
    "    greatest_inc_month = \"\"\n",
    "    greatest_dec = 0\n",
    "    greatest_dec_month = \"\""
   ]
  },
  {
   "cell_type": "code",
   "execution_count": 4,
   "metadata": {},
   "outputs": [],
   "source": [
    "#prev_pl tracks the profit/loss of the pevious month (for the changes variable)\n",
    "prev_pl = 0\n",
    "#changes is a list of all calculated pl changes from month to month\n",
    "changes = []\n"
   ]
  },
  {
   "cell_type": "code",
   "execution_count": null,
   "metadata": {},
   "outputs": [],
   "source": [
    "#Open the file and read data with csv.reader; save \n",
    "\n",
    ".join header row\n",
    "with open(file)as data:\n",
    "    csvreader = csv.reader(data, delimiter= ',')\n",
    "    header = next(csvreader)"
   ]
  },
  {
   "cell_type": "code",
   "execution_count": null,
   "metadata": {},
   "outputs": [],
   "source": [
    "#Loop through each row in csv, store values in named variables\n",
    "for row in csvreader:\n",
    "    date = row[0]\n",
    "    pl=int(row[1])\n",
    "    #Add the current month's pl to the total\n",
    "    total_profit += pl\n",
    "    #Add one to the count of total months\n",
    "    total_months += 1\n",
    "    # Subtract the pevious month's pl from the currnt month;\n",
    "    # if this is the first month, discrd the value. If this is\n",
    "    # not the first month, append the change to the change list.\n",
    "    change = pl - prev_pl\n",
    "    if total_months!= 1:\n",
    "        changes.append(change)\n",
    "        #Compare the change from the curent month to the greatest_inc\n",
    "        #variable: if change is greater than greatest_inc, replace\n",
    "        #greatest_inc will change and update greatest_inc month with \n",
    "        #month from current row. If change is less than greatest_dec_month\n",
    "        #with month from current row.\n",
    "        if change > greater_inc:\n",
    "            greatest_inc = change\n",
    "            greatest_inc_month = date \n",
    "        if change < greatest_dec;\n",
    "        greatest_dec_month = date\n",
    "        #Replace prev_pl with pl for next loop\n",
    "        prev_pl = pl\n",
    "            \n",
    "        \n",
    "    "
   ]
  },
  {
   "cell_type": "code",
   "execution_count": null,
   "metadata": {},
   "outputs": [],
   "source": [
    "# Calculate average change by submitting the changes list and dividing by \n",
    "# the Length of the list. round to 2 decimals.\n",
    "avg_change = round(sum/(changes)/len(changes), 2)\n",
    "\n",
    "# FolLowing line was deprecated due to clarity on instructions.\n",
    "#monthly_avg_profit = int(round(total_profit_total_months, 0))"
   ]
  },
  {
   "cell_type": "code",
   "execution_count": null,
   "metadata": {},
   "outputs": [],
   "source": [
    "# Create a string for printing to the console and saving as a text file\n",
    "#that displays all calculaions requested.\n",
    "analysis = f\"\"\"\n",
    "TotalProfit: ${total_profit}\n",
    "Total Months: {total_months}\n",
    "Average Monthly_Change: ${avg_change}\n",
    "Greatest Increase: {greatest_inc_month}, ${greatest_inc}\n",
    "Greatest Decrease: {greatest_dec_month}, ${greatest_dec}\n",
    "\"\"\"\n",
    "\n",
    "# Print the final analysis\n",
    "print(analysis)\n",
    "\n",
    "# Create a text file using the final analysis\n",
    "outpute file =\"output.txt\" \n",
    "with open(output_file, \"w\")as doc:\n",
    "    doc.writer(analysis)\n",
    "    \n",
    "# Create file path fo csv import\n",
    "    path = os.path.join(\"Resources\", buget_data.csv\")\n",
    "                        #Run the fnction on the path\n",
    "                    analyze_budgets(path)"
   ]
  }
 ],
 "metadata": {
  "kernelspec": {
   "display_name": "Python 3",
   "language": "python",
   "name": "python3"
  },
  "language_info": {
   "codemirror_mode": {
    "name": "ipython",
    "version": 3
   },
   "file_extension": ".py",
   "mimetype": "text/x-python",
   "name": "python",
   "nbconvert_exporter": "python",
   "pygments_lexer": "ipython3",
   "version": "3.7.4"
  }
 },
 "nbformat": 4,
 "nbformat_minor": 4
}
